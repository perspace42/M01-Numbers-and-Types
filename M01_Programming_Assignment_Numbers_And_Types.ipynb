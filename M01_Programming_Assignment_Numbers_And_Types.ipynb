{
 "cells": [
  {
   "cell_type": "code",
   "execution_count": 1,
   "id": "3f8a377d",
   "metadata": {
    "scrolled": false
   },
   "outputs": [
    {
     "data": {
      "text/plain": [
       "'\\nAuthor: Scott Field\\nVersion: 1.00\\nDate: 3/20/2023\\nProgram Name: Seconds Per Hour\\nProgram Purpose: Using Jupyter Complete Exercises 3.1-3.6\\n'"
      ]
     },
     "execution_count": 1,
     "metadata": {},
     "output_type": "execute_result"
    }
   ],
   "source": [
    "'''\n",
    "Author: Scott Field\n",
    "Version: 1.00\n",
    "Date: 3/20/2023\n",
    "Program Name: Seconds Per Hour\n",
    "Program Purpose: Using Jupyter Complete Exercises 3.1-3.6\n",
    "'''"
   ]
  },
  {
   "cell_type": "code",
   "execution_count": 27,
   "id": "844b35ea",
   "metadata": {},
   "outputs": [
    {
     "data": {
      "text/plain": [
       "3600"
      ]
     },
     "execution_count": 27,
     "metadata": {},
     "output_type": "execute_result"
    }
   ],
   "source": [
    "# Exercise 3.1 Use interactive interpreter to multiply number of seconds in a minute by the number of minutes in an hour (60*60)\n",
    "60*60"
   ]
  },
  {
   "cell_type": "code",
   "execution_count": 28,
   "id": "f905bff7",
   "metadata": {},
   "outputs": [],
   "source": [
    "#Exercise 3.2 Add the result of the previous calculation to a variable (seconds_per_hour)\n",
    "seconds_per_hour = 3600"
   ]
  },
  {
   "cell_type": "code",
   "execution_count": 31,
   "id": "5a51458f",
   "metadata": {},
   "outputs": [
    {
     "data": {
      "text/plain": [
       "86400"
      ]
     },
     "execution_count": 31,
     "metadata": {},
     "output_type": "execute_result"
    }
   ],
   "source": [
    "#Exercise 3.3 Find the number of seconds in a day by multiplying the number of seconds in an hour by the number of hours in a day\n",
    "seconds_per_hour * 24"
   ]
  },
  {
   "cell_type": "code",
   "execution_count": 32,
   "id": "1e10e1c4",
   "metadata": {},
   "outputs": [],
   "source": [
    "#Exercise 3.4 Add the result of the previous calculation to a variable (seconds_per_day)\n",
    "seconds_per_day = 86400"
   ]
  },
  {
   "cell_type": "code",
   "execution_count": 30,
   "id": "d656c1df",
   "metadata": {},
   "outputs": [
    {
     "data": {
      "text/plain": [
       "24.0"
      ]
     },
     "execution_count": 30,
     "metadata": {},
     "output_type": "execute_result"
    }
   ],
   "source": [
    "#Exercise 3.5 Divide seconds_per_day by seconds_per_hour using floating point (/) division\n",
    "seconds_per_day / seconds_per_hour"
   ]
  },
  {
   "cell_type": "code",
   "execution_count": 33,
   "id": "b0f595cf",
   "metadata": {},
   "outputs": [
    {
     "data": {
      "text/plain": [
       "24"
      ]
     },
     "execution_count": 33,
     "metadata": {},
     "output_type": "execute_result"
    }
   ],
   "source": [
    "#Exercise 3.6 Divide seconds_per_day by seconds_per_hour using integer (//) division\n",
    "seconds_per_day // seconds_per_hour"
   ]
  }
 ],
 "metadata": {
  "kernelspec": {
   "display_name": "Python 3 (ipykernel)",
   "language": "python",
   "name": "python3"
  },
  "language_info": {
   "codemirror_mode": {
    "name": "ipython",
    "version": 3
   },
   "file_extension": ".py",
   "mimetype": "text/x-python",
   "name": "python",
   "nbconvert_exporter": "python",
   "pygments_lexer": "ipython3",
   "version": "3.9.13"
  }
 },
 "nbformat": 4,
 "nbformat_minor": 5
}
